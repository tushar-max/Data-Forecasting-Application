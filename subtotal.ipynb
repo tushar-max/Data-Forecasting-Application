{
 "cells": [
  {
   "cell_type": "code",
   "execution_count": 7,
   "metadata": {},
   "outputs": [],
   "source": [
    "import pandas as pd"
   ]
  },
  {
   "cell_type": "code",
   "execution_count": 8,
   "metadata": {},
   "outputs": [],
   "source": [
    "row = ['Country', 'Gender','Age-Group']\n",
    "column = [ 'Year']\n",
    "value = 'People'\n",
    "def get_pt():\n",
    "    df = pd.read_excel(\"Pivot Practice.xlsx\",sheet_name=\"Sheet5\")\n",
    "    row = ['Country', 'Gender','Age-Group']\n",
    "    column = [ 'Year']\n",
    "    value = 'People'\n",
    "    pivot_table = pd.pivot_table(df, values=value, index=row, columns=column, aggfunc='sum', fill_value=0, margins=True, margins_name='Total', observed=True)\n",
    "    # Implement logic to fetch and process data\n",
    "    # Return the data in JSON format\n",
    "    return df,pivot_table"
   ]
  },
  {
   "cell_type": "code",
   "execution_count": 9,
   "metadata": {},
   "outputs": [],
   "source": [
    "def helper(lst):\n",
    "    if not isinstance(lst[0],tuple):\n",
    "        return [[ele] for ele in lst]\n",
    "    else:\n",
    "        return lst"
   ]
  },
  {
   "cell_type": "code",
   "execution_count": 10,
   "metadata": {},
   "outputs": [],
   "source": [
    "df,pt = get_pt()"
   ]
  },
  {
   "cell_type": "code",
   "execution_count": 11,
   "metadata": {},
   "outputs": [],
   "source": [
    "temp = pt.to_dict(orient='split')"
   ]
  },
  {
   "cell_type": "code",
   "execution_count": 12,
   "metadata": {},
   "outputs": [
    {
     "data": {
      "text/plain": [
       "{'index': [('C1', 'Female', '20-30'),\n",
       "  ('C1', 'Female', '30-40'),\n",
       "  ('C1', 'Female', '40-50'),\n",
       "  ('C1', 'Male', '20-30'),\n",
       "  ('C1', 'Male', '30-40'),\n",
       "  ('C1', 'Male', '40-50'),\n",
       "  ('C2', 'Female', '20-30'),\n",
       "  ('C2', 'Male', '20-30'),\n",
       "  ('C2', 'Male', '30-40'),\n",
       "  ('C2', 'Male', '40-50'),\n",
       "  ('Total', '', '')],\n",
       " 'columns': [2019, 2020, 2021, 2022, 'Total'],\n",
       " 'data': [[10, 16, 0, 0, 26],\n",
       "  [8, 16, 0, 0, 24],\n",
       "  [5, 20, 20, 20, 65],\n",
       "  [6, 12, 0, 0, 18],\n",
       "  [7, 14, 0, 0, 21],\n",
       "  [8, 32, 32, 32, 104],\n",
       "  [20, 20, 0, 0, 40],\n",
       "  [1, 1, 0, 0, 2],\n",
       "  [9, 9, 0, 0, 18],\n",
       "  [10, 20, 20, 20, 70],\n",
       "  [84, 160, 72, 72, 388]]}"
      ]
     },
     "execution_count": 12,
     "metadata": {},
     "output_type": "execute_result"
    }
   ],
   "source": [
    "temp"
   ]
  },
  {
   "cell_type": "code",
   "execution_count": 13,
   "metadata": {},
   "outputs": [
    {
     "name": "stdout",
     "output_type": "stream",
     "text": [
      "Year 2019 //44\n",
      "Year 2020 //110\n",
      "Year 2021 //52\n",
      "Year 2022 //52\n",
      "Year Total //0\n",
      "Year 2019 //23\n",
      "Year 2020 //52\n",
      "Year 2021 //20\n",
      "Year 2022 //20\n",
      "Year Total //0\n",
      "Year 2019 //21\n",
      "Year 2020 //58\n",
      "Year 2021 //32\n",
      "Year 2022 //32\n",
      "Year Total //0\n",
      "Year 2019 //40\n",
      "Year 2020 //50\n",
      "Year 2021 //20\n",
      "Year 2022 //20\n",
      "Year Total //0\n",
      "Year 2019 //20\n",
      "Year 2020 //20\n",
      "Year 2021 //0\n",
      "Year 2022 //0\n",
      "Year Total //0\n",
      "Year 2019 //20\n",
      "Year 2020 //30\n",
      "Year 2021 //20\n",
      "Year 2022 //20\n",
      "Year Total //0\n"
     ]
    }
   ],
   "source": [
    "def subtotals(pt,df,row,col,value):\n",
    "    temp = pt.to_dict(orient='split')\n",
    "    index_ = temp['index']\n",
    "    data_ = temp['data']\n",
    "    column = temp['columns']\n",
    "    column = helper(column)\n",
    "    # index_ = helper(index_)\n",
    "    res_index = []\n",
    "    res_data = []\n",
    "    curr_idx=0\n",
    "    mod = len(index_[0])-1    \n",
    "    for i in range (mod):\n",
    "        lst = list(index_[curr_idx][:i+1])\n",
    "        data = []\n",
    "        mask = pd.Series(True, index=df.index)\n",
    "        for j in range (len(lst)):\n",
    "            mask &= (df[row[j]]==lst[j])\n",
    "        for j in range (len(column)):\n",
    "            temp = mask.copy()\n",
    "            for element in range (len(col)):\n",
    "                print(col[element],column[j][element],end=\" //\")\n",
    "                temp&=(df[col[element]]==column[j][element])\n",
    "            print(df.loc[temp,value].sum())\n",
    "            data.append(df.loc[temp,value].sum())\n",
    "        data[-1]=(df.loc[mask,value].sum())\n",
    "        res_index.append(index_[i][:i+1]+('',)*(mod-len(index_[i][:i+1])+1))\n",
    "        res_data.append(data)\n",
    "    \n",
    "    res_index.append(index_[curr_idx])\n",
    "    res_data.append(data_[0]) \n",
    "        \n",
    "    while curr_idx<(len(data_)-2):\n",
    "        for i in range (mod):\n",
    "            if index_[curr_idx][i]==index_[curr_idx+1][i]:\n",
    "                pass\n",
    "            else:\n",
    "                lst = list(index_[curr_idx+1][:i+1])\n",
    "                data = []\n",
    "                mask = pd.Series(True, index=df.index)\n",
    "                # tt=mask.copy()\n",
    "                for j in range (len(lst)):\n",
    "                    mask &= (df[row[j]]==lst[j])\n",
    "                for j in range (len(column)):\n",
    "                    # temp = mask&(df[col[0]]==column[j])\n",
    "                    temp = mask.copy()\n",
    "                    for element in range (len(col)):\n",
    "                        print(col[element],column[j][element],end=\" //\")\n",
    "                        temp&=(df[col[element]]==column[j][element])\n",
    "                    print(df.loc[temp,value].sum())\n",
    "                    data.append(df.loc[temp,value].sum())\n",
    "                res_index.append((index_[curr_idx+1][:i+1]+('',)*(mod-len(index_[curr_idx+1][:i+1])+1)))\n",
    "                res_data.append(data)\n",
    "        res_index.append(index_[curr_idx+1])\n",
    "        res_data.append(data_[curr_idx+1])\n",
    "        curr_idx+=1\n",
    "    res_index.append(index_[-1])\n",
    "    res_data.append(data_[-1])\n",
    "    return {'columns':column ,'data':res_data ,'index':res_index, 'rows':row,'allcolumns':df.columns.tolist()}\n",
    "\n",
    "result = subtotals(pt,df,row,column,value)\n"
   ]
  },
  {
   "cell_type": "code",
   "execution_count": 22,
   "metadata": {},
   "outputs": [
    {
     "data": {
      "text/html": [
       "<div>\n",
       "<style scoped>\n",
       "    .dataframe tbody tr th:only-of-type {\n",
       "        vertical-align: middle;\n",
       "    }\n",
       "\n",
       "    .dataframe tbody tr th {\n",
       "        vertical-align: top;\n",
       "    }\n",
       "\n",
       "    .dataframe thead th {\n",
       "        text-align: right;\n",
       "    }\n",
       "</style>\n",
       "<table border=\"1\" class=\"dataframe\">\n",
       "  <thead>\n",
       "    <tr style=\"text-align: right;\">\n",
       "      <th></th>\n",
       "      <th>A</th>\n",
       "      <th>B</th>\n",
       "    </tr>\n",
       "  </thead>\n",
       "  <tbody>\n",
       "    <tr>\n",
       "      <th>0</th>\n",
       "      <td>1</td>\n",
       "      <td>2</td>\n",
       "    </tr>\n",
       "  </tbody>\n",
       "</table>\n",
       "</div>"
      ],
      "text/plain": [
       "   A  B\n",
       "0  1  2"
      ]
     },
     "execution_count": 22,
     "metadata": {},
     "output_type": "execute_result"
    }
   ],
   "source": [
    "import pandas as pd\n",
    "df = pd.DataFrame(columns=['A','B'])\n",
    "\n",
    "row = {'A':1,'B':2}\n",
    "df.loc[len(df)] = row\n",
    "df\n"
   ]
  },
  {
   "cell_type": "code",
   "execution_count": 24,
   "metadata": {},
   "outputs": [
    {
     "data": {
      "text/html": [
       "<div>\n",
       "<style scoped>\n",
       "    .dataframe tbody tr th:only-of-type {\n",
       "        vertical-align: middle;\n",
       "    }\n",
       "\n",
       "    .dataframe tbody tr th {\n",
       "        vertical-align: top;\n",
       "    }\n",
       "\n",
       "    .dataframe thead th {\n",
       "        text-align: right;\n",
       "    }\n",
       "</style>\n",
       "<table border=\"1\" class=\"dataframe\">\n",
       "  <thead>\n",
       "    <tr style=\"text-align: right;\">\n",
       "      <th></th>\n",
       "      <th>A</th>\n",
       "      <th>B</th>\n",
       "    </tr>\n",
       "  </thead>\n",
       "  <tbody>\n",
       "    <tr>\n",
       "      <th>0</th>\n",
       "      <td>1</td>\n",
       "      <td>2</td>\n",
       "    </tr>\n",
       "    <tr>\n",
       "      <th>1</th>\n",
       "      <td>1</td>\n",
       "      <td>2</td>\n",
       "    </tr>\n",
       "    <tr>\n",
       "      <th>2</th>\n",
       "      <td>1</td>\n",
       "      <td>2</td>\n",
       "    </tr>\n",
       "  </tbody>\n",
       "</table>\n",
       "</div>"
      ],
      "text/plain": [
       "   A  B\n",
       "0  1  2\n",
       "1  1  2\n",
       "2  1  2"
      ]
     },
     "execution_count": 24,
     "metadata": {},
     "output_type": "execute_result"
    }
   ],
   "source": [
    "df.loc[len(df)] = row\n",
    "df"
   ]
  },
  {
   "cell_type": "code",
   "execution_count": 25,
   "metadata": {},
   "outputs": [],
   "source": [
    "A = [1,2,3]\n",
    "B = ['a','b','c']"
   ]
  },
  {
   "cell_type": "code",
   "execution_count": 26,
   "metadata": {},
   "outputs": [
    {
     "data": {
      "text/plain": [
       "{1: 'a', 2: 'b', 3: 'c'}"
      ]
     },
     "execution_count": 26,
     "metadata": {},
     "output_type": "execute_result"
    }
   ],
   "source": [
    "dic = {}\n",
    "for i in range (len(A)):\n",
    "    dic[A[i]]=B[i]\n",
    "dic"
   ]
  },
  {
   "cell_type": "code",
   "execution_count": null,
   "metadata": {},
   "outputs": [],
   "source": []
  }
 ],
 "metadata": {
  "kernelspec": {
   "display_name": "Python 3",
   "language": "python",
   "name": "python3"
  },
  "language_info": {
   "codemirror_mode": {
    "name": "ipython",
    "version": 3
   },
   "file_extension": ".py",
   "mimetype": "text/x-python",
   "name": "python",
   "nbconvert_exporter": "python",
   "pygments_lexer": "ipython3",
   "version": "3.11.5"
  }
 },
 "nbformat": 4,
 "nbformat_minor": 2
}
