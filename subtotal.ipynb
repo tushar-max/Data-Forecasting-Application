{
 "cells": [
  {
   "cell_type": "code",
   "execution_count": 179,
   "metadata": {},
   "outputs": [],
   "source": [
    "import pandas as pd"
   ]
  },
  {
   "cell_type": "code",
   "execution_count": 180,
   "metadata": {},
   "outputs": [],
   "source": [
    "row = ['Country', 'Gender', 'Age-Group']\n",
    "column = ['Year']\n",
    "value = 'People'\n",
    "def get_pt():\n",
    "    df = pd.read_excel(\"Pivot Practice.xlsx\",sheet_name=\"Sheet5\")\n",
    "    row = ['Country', 'Gender', 'Age-Group']\n",
    "    column = ['Year']\n",
    "    value = 'People'\n",
    "    pivot_table = pd.pivot_table(df, values=value, index=row, columns=column, aggfunc='sum', fill_value=0, margins=True, margins_name='Total', observed=True)\n",
    "    # Implement logic to fetch and process data\n",
    "    # Return the data in JSON format\n",
    "    return df,pivot_table"
   ]
  },
  {
   "cell_type": "code",
   "execution_count": 181,
   "metadata": {},
   "outputs": [],
   "source": [
    "df,pt = get_pt()"
   ]
  },
  {
   "cell_type": "code",
   "execution_count": 182,
   "metadata": {},
   "outputs": [],
   "source": [
    "temp = pt.to_dict(orient='split')"
   ]
  },
  {
   "cell_type": "code",
   "execution_count": 183,
   "metadata": {},
   "outputs": [
    {
     "data": {
      "text/plain": [
       "{'index': [('C1', 'Female', '20-40'),\n",
       "  ('C1', 'Female', '40-60'),\n",
       "  ('C1', 'Female', '60-80'),\n",
       "  ('C1', 'Male', '20-40'),\n",
       "  ('C1', 'Male', '40-60'),\n",
       "  ('C1', 'Male', '60-80'),\n",
       "  ('C2', 'Female', '20-40'),\n",
       "  ('C2', 'Female', '40-60'),\n",
       "  ('C2', 'Female', '60-80'),\n",
       "  ('C2', 'Male', '20-40'),\n",
       "  ('C2', 'Male', '40-60'),\n",
       "  ('C2', 'Male', '60-80'),\n",
       "  ('Total', '', '')],\n",
       " 'columns': [2019, 2020, 2021, 2022, 2023, 'Total'],\n",
       " 'data': [[20, 2, 6, 4, 10, 42],\n",
       "  [0, 6, 2, 3, 1, 12],\n",
       "  [7, 9, 6, 9, 2, 33],\n",
       "  [4, 5, 3, 10, 3, 25],\n",
       "  [6, 2, 8, 4, 5, 25],\n",
       "  [6, 6, 1, 5, 10, 28],\n",
       "  [9, 3, 6, 4, 0, 22],\n",
       "  [8, 5, 1, 3, 8, 25],\n",
       "  [8, 4, 5, 6, 7, 30],\n",
       "  [10, 0, 1, 9, 7, 27],\n",
       "  [8, 0, 5, 10, 0, 23],\n",
       "  [3, 1, 10, 1, 4, 19],\n",
       "  [89, 43, 54, 68, 57, 311]]}"
      ]
     },
     "execution_count": 183,
     "metadata": {},
     "output_type": "execute_result"
    }
   ],
   "source": [
    "temp"
   ]
  },
  {
   "cell_type": "code",
   "execution_count": 184,
   "metadata": {},
   "outputs": [],
   "source": [
    "def subtotals(pt,df,row,col,value):\n",
    "    temp = pt.to_dict(orient='split')\n",
    "    index_ = temp['index']\n",
    "    data_ = temp['data']\n",
    "    column = temp['columns']\n",
    "    res_index = []\n",
    "    res_data = []\n",
    "    curr_idx=0\n",
    "    mod = len(index_[0])-1    \n",
    "    for i in range (mod):\n",
    "        lst = list(index_[curr_idx][:i+1])\n",
    "        data = []\n",
    "        mask = pd.Series(True, index=df.index)\n",
    "        for j in range (len(lst)):\n",
    "            mask &= (df[row[j]]==lst[j])\n",
    "        for j in range (len(column)):\n",
    "            temp = mask&(df[col[0]]==column[j])\n",
    "            data.append(df.loc[temp,value].sum())\n",
    "        data[-1]=(df.loc[mask,value].sum())\n",
    "        res_index.append(index_[i][:i+1]+('',)*(mod-len(index_[i][:i+1])+1))\n",
    "        res_data.append(data)\n",
    "    \n",
    "    res_index.append(index_[curr_idx])\n",
    "    res_data.append(data_[0]) \n",
    "        \n",
    "    while curr_idx<(len(data_)-2):\n",
    "        for i in range (mod):\n",
    "            if index_[curr_idx][i]==index_[curr_idx+1][i]:\n",
    "                pass\n",
    "            else:\n",
    "                lst = list(index_[curr_idx+1][:i+1])\n",
    "                data = []\n",
    "                mask = pd.Series(True, index=df.index)\n",
    "                for j in range (len(lst)):\n",
    "                    mask &= (df[row[j]]==lst[j])\n",
    "                for j in range (len(column)):\n",
    "                    temp = mask&(df[col[0]]==column[j])\n",
    "                    data.append(df.loc[temp,value].sum())\n",
    "                res_index.append((index_[curr_idx+1][:i+1]+('',)*(mod-len(index_[curr_idx+1][:i+1])+1)))\n",
    "                res_data.append(data)\n",
    "        res_index.append(index_[curr_idx+1])\n",
    "        res_data.append(data_[curr_idx+1])\n",
    "        curr_idx+=1\n",
    "    res_index.append(index_[-1])\n",
    "    res_data.append(data_[-1])\n",
    "    return {'columns':column ,'data':res_data ,'index':res_index, 'rows':row,'allcolumns':df.columns.tolist()}\n",
    "\n",
    "result = subtotals(pt,df,row,column,value)\n"
   ]
  },
  {
   "cell_type": "code",
   "execution_count": 185,
   "metadata": {},
   "outputs": [
    {
     "data": {
      "text/plain": [
       "{'columns': [2019, 2020, 2021, 2022, 2023, 'Total'],\n",
       " 'data': [[43, 30, 26, 35, 31, 165],\n",
       "  [27, 17, 14, 16, 13, 87],\n",
       "  [20, 2, 6, 4, 10, 42],\n",
       "  [0, 6, 2, 3, 1, 12],\n",
       "  [7, 9, 6, 9, 2, 33],\n",
       "  [16, 13, 12, 19, 18, 0],\n",
       "  [4, 5, 3, 10, 3, 25],\n",
       "  [6, 2, 8, 4, 5, 25],\n",
       "  [6, 6, 1, 5, 10, 28],\n",
       "  [46, 13, 28, 33, 26, 0],\n",
       "  [25, 12, 12, 13, 15, 0],\n",
       "  [9, 3, 6, 4, 0, 22],\n",
       "  [8, 5, 1, 3, 8, 25],\n",
       "  [8, 4, 5, 6, 7, 30],\n",
       "  [21, 1, 16, 20, 11, 0],\n",
       "  [10, 0, 1, 9, 7, 27],\n",
       "  [8, 0, 5, 10, 0, 23],\n",
       "  [3, 1, 10, 1, 4, 19],\n",
       "  [89, 43, 54, 68, 57, 311]],\n",
       " 'index': [('C1', '', ''),\n",
       "  ('C1', 'Female', ''),\n",
       "  ('C1', 'Female', '20-40'),\n",
       "  ('C1', 'Female', '40-60'),\n",
       "  ('C1', 'Female', '60-80'),\n",
       "  ('C1', 'Male', ''),\n",
       "  ('C1', 'Male', '20-40'),\n",
       "  ('C1', 'Male', '40-60'),\n",
       "  ('C1', 'Male', '60-80'),\n",
       "  ('C2', '', ''),\n",
       "  ('C2', 'Female', ''),\n",
       "  ('C2', 'Female', '20-40'),\n",
       "  ('C2', 'Female', '40-60'),\n",
       "  ('C2', 'Female', '60-80'),\n",
       "  ('C2', 'Male', ''),\n",
       "  ('C2', 'Male', '20-40'),\n",
       "  ('C2', 'Male', '40-60'),\n",
       "  ('C2', 'Male', '60-80'),\n",
       "  ('Total', '', '')],\n",
       " 'rows': ['Country', 'Gender', 'Age-Group'],\n",
       " 'allcolumns': ['Country', 'Gender', 'Age-Group', 'Year', 'People']}"
      ]
     },
     "execution_count": 185,
     "metadata": {},
     "output_type": "execute_result"
    }
   ],
   "source": [
    "result"
   ]
  },
  {
   "cell_type": "code",
   "execution_count": null,
   "metadata": {},
   "outputs": [],
   "source": []
  }
 ],
 "metadata": {
  "kernelspec": {
   "display_name": "Python 3",
   "language": "python",
   "name": "python3"
  },
  "language_info": {
   "codemirror_mode": {
    "name": "ipython",
    "version": 3
   },
   "file_extension": ".py",
   "mimetype": "text/x-python",
   "name": "python",
   "nbconvert_exporter": "python",
   "pygments_lexer": "ipython3",
   "version": "3.11.5"
  }
 },
 "nbformat": 4,
 "nbformat_minor": 2
}
